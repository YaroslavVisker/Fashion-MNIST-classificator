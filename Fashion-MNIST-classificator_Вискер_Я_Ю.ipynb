{
  "nbformat": 4,
  "nbformat_minor": 0,
  "metadata": {
    "colab": {
      "provenance": []
    },
    "kernelspec": {
      "name": "python3",
      "display_name": "Python 3"
    },
    "language_info": {
      "name": "python"
    }
  },
  "cells": [
    {
      "cell_type": "code",
      "source": [
        "from google.colab import drive\n",
        "drive.mount('/content/drive')"
      ],
      "metadata": {
        "colab": {
          "base_uri": "https://localhost:8080/"
        },
        "id": "UXeAjXmMfzj6",
        "outputId": "99d82d79-a8f8-47c3-85d4-75df0cff0c59"
      },
      "execution_count": 2,
      "outputs": [
        {
          "output_type": "stream",
          "name": "stdout",
          "text": [
            "Mounted at /content/drive\n"
          ]
        }
      ]
    },
    {
      "cell_type": "code",
      "execution_count": 1,
      "metadata": {
        "id": "mjM5yRLCZiw3"
      },
      "outputs": [],
      "source": [
        "import pandas as pd\n",
        "import numpy as np\n",
        "import matplotlib.pyplot as plt\n",
        "import seaborn as sns\n",
        "from sklearn.model_selection import train_test_split\n",
        "from tensorflow import keras\n",
        "from tensorflow.keras.models import Sequential\n",
        "from tensorflow.keras.layers import Dense, Flatten, Conv2D, MaxPooling2D, Dropout\n",
        "from tensorflow.keras.utils import to_categorical\n",
        "from tensorflow.keras.callbacks import EarlyStopping, ReduceLROnPlateau\n",
        "from sklearn.metrics import classification_report, confusion_matrix"
      ]
    },
    {
      "cell_type": "code",
      "source": [
        "# Загружаем обучающую выборку\n",
        "train_df = pd.read_csv('/content/drive/MyDrive/Colab Notebooks/data/fmnist_train.csv')"
      ],
      "metadata": {
        "id": "hHJg271pftYn"
      },
      "execution_count": 3,
      "outputs": []
    },
    {
      "cell_type": "code",
      "source": [
        "# Загружаем тестовую выборку\n",
        "test_df = pd.read_csv('/content/drive/MyDrive/Colab Notebooks/data/fmnist_test.csv')"
      ],
      "metadata": {
        "id": "2Uri9HcRgJgn"
      },
      "execution_count": 4,
      "outputs": []
    },
    {
      "cell_type": "code",
      "source": [
        "# Первичный анализ данных обучающей выборки\n",
        "print(\"\\nПервичный анализ обучающей выборки:\")\n",
        "print(train_df.head()) # Выводим несколько первых строк\n",
        "print(train_df.info()) # Получаем общую информацию о DataFrame\n",
        "print(train_df.describe()) # Получаем статистические сводки"
      ],
      "metadata": {
        "colab": {
          "base_uri": "https://localhost:8080/"
        },
        "id": "8BWtwk-sgO15",
        "outputId": "34b961c9-4127-4cc2-e364-815d6cb034d8"
      },
      "execution_count": 5,
      "outputs": [
        {
          "output_type": "stream",
          "name": "stdout",
          "text": [
            "\n",
            "Первичный анализ обучающей выборки:\n",
            "   label  pixel1  pixel2  pixel3  pixel4  pixel5  pixel6  pixel7  pixel8  \\\n",
            "0      2       0       0       0       0       0       0       0       0   \n",
            "1      9       0       0       0       0       0       0       0       0   \n",
            "2      6       0       0       0       0       0       0       0       5   \n",
            "3      0       0       0       0       1       2       0       0       0   \n",
            "4      3       0       0       0       0       0       0       0       0   \n",
            "\n",
            "   pixel9  ...  pixel776  pixel777  pixel778  pixel779  pixel780  pixel781  \\\n",
            "0       0  ...       0.0       0.0       0.0       0.0       0.0       0.0   \n",
            "1       0  ...       0.0       0.0       0.0       0.0       0.0       0.0   \n",
            "2       0  ...       0.0       0.0      30.0      43.0       0.0       0.0   \n",
            "3       0  ...       0.0       0.0       0.0       0.0       1.0       0.0   \n",
            "4       0  ...       0.0       0.0       0.0       0.0       0.0       0.0   \n",
            "\n",
            "   pixel782  pixel783  pixel784  Id  \n",
            "0       0.0       0.0       0.0   0  \n",
            "1       0.0       0.0       0.0   1  \n",
            "2       0.0       0.0       0.0   2  \n",
            "3       0.0       0.0       0.0   3  \n",
            "4       0.0       0.0       0.0   4  \n",
            "\n",
            "[5 rows x 786 columns]\n",
            "<class 'pandas.core.frame.DataFrame'>\n",
            "RangeIndex: 17040 entries, 0 to 17039\n",
            "Columns: 786 entries, label to Id\n",
            "dtypes: float64(424), int64(362)\n",
            "memory usage: 102.2 MB\n",
            "None\n",
            "              label        pixel1        pixel2        pixel3        pixel4  \\\n",
            "count  17040.000000  17040.000000  17040.000000  17040.000000  17040.000000   \n",
            "mean       4.486913      0.002347      0.005869      0.028991      0.114495   \n",
            "std        2.881984      0.172991      0.209439      0.621885      2.630319   \n",
            "min        0.000000      0.000000      0.000000      0.000000      0.000000   \n",
            "25%        2.000000      0.000000      0.000000      0.000000      0.000000   \n",
            "50%        5.000000      0.000000      0.000000      0.000000      0.000000   \n",
            "75%        7.000000      0.000000      0.000000      0.000000      0.000000   \n",
            "max        9.000000     16.000000     16.000000     56.000000    164.000000   \n",
            "\n",
            "             pixel5        pixel6        pixel7        pixel8        pixel9  \\\n",
            "count  17040.000000  17040.000000  17040.000000  17040.000000  17040.000000   \n",
            "mean       0.233275      0.372946      0.725352      2.167077      5.751995   \n",
            "std        4.060619      5.337305      7.395038     13.906113     24.238699   \n",
            "min        0.000000      0.000000      0.000000      0.000000      0.000000   \n",
            "25%        0.000000      0.000000      0.000000      0.000000      0.000000   \n",
            "50%        0.000000      0.000000      0.000000      0.000000      0.000000   \n",
            "75%        0.000000      0.000000      0.000000      0.000000      0.000000   \n",
            "max      217.000000    230.000000    213.000000    218.000000    254.000000   \n",
            "\n",
            "       ...      pixel776      pixel777      pixel778      pixel779  \\\n",
            "count  ...  17039.000000  17039.000000  17039.000000  17039.000000   \n",
            "mean   ...     23.532308     16.799519     17.331886     22.342332   \n",
            "std    ...     48.730232     41.825340     43.064804     51.111173   \n",
            "min    ...      0.000000      0.000000      0.000000      0.000000   \n",
            "25%    ...      0.000000      0.000000      0.000000      0.000000   \n",
            "50%    ...      0.000000      0.000000      0.000000      0.000000   \n",
            "75%    ...     11.000000      0.000000      0.000000      0.000000   \n",
            "max    ...    255.000000    254.000000    255.000000    252.000000   \n",
            "\n",
            "           pixel780      pixel781      pixel782      pixel783      pixel784  \\\n",
            "count  17039.000000  17039.000000  17039.000000  17039.000000  17039.000000   \n",
            "mean      17.985328      8.849111      2.964435      0.961265      0.088738   \n",
            "std       45.379001     30.228846     18.003959      9.866697      2.342414   \n",
            "min        0.000000      0.000000      0.000000      0.000000      0.000000   \n",
            "25%        0.000000      0.000000      0.000000      0.000000      0.000000   \n",
            "50%        0.000000      0.000000      0.000000      0.000000      0.000000   \n",
            "75%        0.000000      0.000000      0.000000      0.000000      0.000000   \n",
            "max      255.000000    250.000000    255.000000    255.000000    170.000000   \n",
            "\n",
            "                 Id  \n",
            "count  17040.000000  \n",
            "mean    8519.500000  \n",
            "std     4919.168629  \n",
            "min        0.000000  \n",
            "25%     4259.750000  \n",
            "50%     8519.500000  \n",
            "75%    12779.250000  \n",
            "max    17039.000000  \n",
            "\n",
            "[8 rows x 786 columns]\n"
          ]
        }
      ]
    },
    {
      "cell_type": "code",
      "source": [
        "# Проверяем наличие NaN значений в обучающей выборке\n",
        "print(\"\\nПроверка на наличие NaN значений в обучающей выборке:\")\n",
        "print(train_df.isnull().sum().sum()) # Суммируем все NaN значения"
      ],
      "metadata": {
        "colab": {
          "base_uri": "https://localhost:8080/"
        },
        "id": "4QoyZn5egUul",
        "outputId": "88e12e5c-5ee5-4603-bf93-797ebffd5247"
      },
      "execution_count": 6,
      "outputs": [
        {
          "output_type": "stream",
          "name": "stdout",
          "text": [
            "\n",
            "Проверка на наличие NaN значений в обучающей выборке:\n",
            "424\n"
          ]
        }
      ]
    },
    {
      "cell_type": "code",
      "source": [
        "# Заполняем NaN значения медианным значением в обучающей выборке\n",
        "train_df = train_df.fillna(train_df.median())\n",
        "print(\"\\nNaN значения в обучающей выборке заполнены медианным значением.\")"
      ],
      "metadata": {
        "colab": {
          "base_uri": "https://localhost:8080/"
        },
        "id": "D7rgzzDcgrCz",
        "outputId": "cc74d134-2ae1-47fb-9b09-7002489532f4"
      },
      "execution_count": 7,
      "outputs": [
        {
          "output_type": "stream",
          "name": "stdout",
          "text": [
            "\n",
            "NaN значения в обучающей выборке заполнены медианным значением.\n"
          ]
        }
      ]
    },
    {
      "cell_type": "code",
      "source": [
        "# Проверяем наличие NaN значений в обучающей выборке после заполнения\n",
        "print(\"\\nПроверка на наличие NaN значений в обучающей выборке после заполнения:\")\n",
        "print(train_df.isnull().sum().sum())"
      ],
      "metadata": {
        "colab": {
          "base_uri": "https://localhost:8080/"
        },
        "id": "UVo2FuwDhQM3",
        "outputId": "0da25843-1142-42d3-e72d-584af3ffe482"
      },
      "execution_count": 8,
      "outputs": [
        {
          "output_type": "stream",
          "name": "stdout",
          "text": [
            "\n",
            "Проверка на наличие NaN значений в обучающей выборке после заполнения:\n",
            "0\n"
          ]
        }
      ]
    },
    {
      "cell_type": "code",
      "source": [
        "# Первичный анализ данных тестовой выборки\n",
        "print(\"\\nПервичный анализ тестовой выборки:\")\n",
        "print(test_df.head()) # Выводим несколько первых строк\n",
        "print(test_df.info()) # Получаем общую информацию о DataFrame\n",
        "print(test_df.describe()) # Получаем статистические сводки"
      ],
      "metadata": {
        "colab": {
          "base_uri": "https://localhost:8080/"
        },
        "id": "IIcwatVHhT09",
        "outputId": "648c93fb-790a-4e54-bb30-00d93248a85b"
      },
      "execution_count": 9,
      "outputs": [
        {
          "output_type": "stream",
          "name": "stdout",
          "text": [
            "\n",
            "Первичный анализ тестовой выборки:\n",
            "   pixel1  pixel2  pixel3  pixel4  pixel5  pixel6  pixel7  pixel8  pixel9  \\\n",
            "0       0       0       0       0       0       0       0       9       8   \n",
            "1       0       0       0       0       0       0       0       0       0   \n",
            "2       0       0       0       0       0       0      14      53      99   \n",
            "3       0       0       0       0       0       0       0       0       0   \n",
            "4       0       0       0       0       0       0       0       0       0   \n",
            "\n",
            "   pixel10  ...  pixel776  pixel777  pixel778  pixel779  pixel780  pixel781  \\\n",
            "0        0  ...        87        56         0         0         0         0   \n",
            "1        0  ...         0         0         0         0         0         0   \n",
            "2       17  ...         0         0         0        63        53        31   \n",
            "3      161  ...       126       140         0       133       224       222   \n",
            "4        0  ...         0         0         0         0         0         0   \n",
            "\n",
            "   pixel782  pixel783  pixel784  Id  \n",
            "0         0         0         0   0  \n",
            "1         0         0         0   1  \n",
            "2         0         0         0   2  \n",
            "3        56         0         0   3  \n",
            "4         0         0         0   4  \n",
            "\n",
            "[5 rows x 785 columns]\n",
            "<class 'pandas.core.frame.DataFrame'>\n",
            "RangeIndex: 10000 entries, 0 to 9999\n",
            "Columns: 785 entries, pixel1 to Id\n",
            "dtypes: int64(785)\n",
            "memory usage: 59.9 MB\n",
            "None\n",
            "             pixel1        pixel2        pixel3        pixel4        pixel5  \\\n",
            "count  10000.000000  10000.000000  10000.000000  10000.000000  10000.000000   \n",
            "mean       0.000400      0.010300      0.052100      0.077000      0.208600   \n",
            "std        0.024493      0.525187      2.494315      2.208882      4.669183   \n",
            "min        0.000000      0.000000      0.000000      0.000000      0.000000   \n",
            "25%        0.000000      0.000000      0.000000      0.000000      0.000000   \n",
            "50%        0.000000      0.000000      0.000000      0.000000      0.000000   \n",
            "75%        0.000000      0.000000      0.000000      0.000000      0.000000   \n",
            "max        2.000000     45.000000    218.000000    185.000000    227.000000   \n",
            "\n",
            "             pixel6        pixel7        pixel8        pixel9       pixel10  \\\n",
            "count  10000.000000  10000.000000  10000.000000  10000.000000  10000.000000   \n",
            "mean       0.349200      0.826700      2.321200      5.457800     14.363500   \n",
            "std        5.657849      8.591731     15.031508     23.359019     37.911701   \n",
            "min        0.000000      0.000000      0.000000      0.000000      0.000000   \n",
            "25%        0.000000      0.000000      0.000000      0.000000      0.000000   \n",
            "50%        0.000000      0.000000      0.000000      0.000000      0.000000   \n",
            "75%        0.000000      0.000000      0.000000      0.000000      0.000000   \n",
            "max      223.000000    247.000000    218.000000    244.000000    250.000000   \n",
            "\n",
            "       ...      pixel776      pixel777      pixel778      pixel779  \\\n",
            "count  ...  10000.000000  10000.000000  10000.000000  10000.000000   \n",
            "mean   ...     23.071900     16.432000     17.870600     22.860000   \n",
            "std    ...     49.049749     42.159665     44.140552     51.706601   \n",
            "min    ...      0.000000      0.000000      0.000000      0.000000   \n",
            "25%    ...      0.000000      0.000000      0.000000      0.000000   \n",
            "50%    ...      0.000000      0.000000      0.000000      0.000000   \n",
            "75%    ...      6.000000      0.000000      0.000000      1.000000   \n",
            "max    ...    252.000000    255.000000    255.000000    255.000000   \n",
            "\n",
            "           pixel780      pixel781      pixel782      pixel783     pixel784  \\\n",
            "count  10000.000000  10000.000000  10000.000000  10000.000000  10000.00000   \n",
            "mean      17.790200      8.353500      2.541600      0.629500      0.06560   \n",
            "std       45.128107     28.765769     16.417363      7.462533      1.93403   \n",
            "min        0.000000      0.000000      0.000000      0.000000      0.00000   \n",
            "25%        0.000000      0.000000      0.000000      0.000000      0.00000   \n",
            "50%        0.000000      0.000000      0.000000      0.000000      0.00000   \n",
            "75%        0.000000      0.000000      0.000000      0.000000      0.00000   \n",
            "max      255.000000    240.000000    225.000000    205.000000    107.00000   \n",
            "\n",
            "                Id  \n",
            "count  10000.00000  \n",
            "mean    4999.50000  \n",
            "std     2886.89568  \n",
            "min        0.00000  \n",
            "25%     2499.75000  \n",
            "50%     4999.50000  \n",
            "75%     7499.25000  \n",
            "max     9999.00000  \n",
            "\n",
            "[8 rows x 785 columns]\n"
          ]
        }
      ]
    },
    {
      "cell_type": "code",
      "source": [
        "# Проверяем наличие NaN значений в тестовой выборке\n",
        "print(\"\\nПроверка на наличие NaN значений в тестовой выборке:\")\n",
        "print(test_df.isnull().sum().sum()) # Суммируем все NaN значения"
      ],
      "metadata": {
        "colab": {
          "base_uri": "https://localhost:8080/"
        },
        "id": "EYMmu5Mbhady",
        "outputId": "288f6b19-1b90-49ad-c950-2d6dd3d50db4"
      },
      "execution_count": 10,
      "outputs": [
        {
          "output_type": "stream",
          "name": "stdout",
          "text": [
            "\n",
            "Проверка на наличие NaN значений в тестовой выборке:\n",
            "0\n"
          ]
        }
      ]
    },
    {
      "cell_type": "code",
      "source": [
        "# Визуализация распределения классов в обучающей выборке\n",
        "plt.figure(figsize=(10, 6))\n",
        "sns.countplot(x='label', data=train_df)\n",
        "plt.title('Распределение классов в обучающей выборке')\n",
        "plt.xlabel('Класс (label)')\n",
        "plt.ylabel('Количество изображений')\n",
        "plt.xticks(ticks=range(10), labels=['Футболка', 'Брюки', 'Свитер', 'Платье', 'Пальто', 'Сандалия', 'Рубашка', 'Кроссовки', 'Сумка', 'Сапог'])\n",
        "plt.show()"
      ],
      "metadata": {
        "colab": {
          "base_uri": "https://localhost:8080/",
          "height": 564
        },
        "id": "4oFenoFrheu3",
        "outputId": "53cd196e-30b2-4aa2-d0ca-37465b268150"
      },
      "execution_count": 11,
      "outputs": [
        {
          "output_type": "display_data",
          "data": {
            "text/plain": [
              "<Figure size 1000x600 with 1 Axes>"
            ],
            "image/png": "[encoded data removed]"
          },
          "metadata": {}
        }
      ]
    },
    {
      "cell_type": "code",
      "source": [
        "# Подготовка данных для обучения модели\n",
        "# Отделяем признаки (пиксели) от целевой переменной (label) в обучающей выборке\n",
        "X_train = train_df.drop(['label', 'Id'], axis=1)\n",
        "y_train = train_df['label']"
      ],
      "metadata": {
        "id": "5ZDkENw_hrTY"
      },
      "execution_count": 15,
      "outputs": []
    },
    {
      "cell_type": "code",
      "source": [
        "# Нормализуем значения пикселей к диапазону [0, 1]\n",
        "X_train = X_train / 255.0"
      ],
      "metadata": {
        "id": "CdV1Fdnih7TT"
      },
      "execution_count": 16,
      "outputs": []
    },
    {
      "cell_type": "code",
      "source": [
        "# Изменяем размерность данных для сверточной нейронной сети (CNN) - добавляем канал глубины\n",
        "X_train = X_train.values.reshape(-1, 28, 28, 1)"
      ],
      "metadata": {
        "id": "W4jBak90h-T4"
      },
      "execution_count": 17,
      "outputs": []
    },
    {
      "cell_type": "code",
      "source": [
        "# Преобразуем целевую переменную в категориальное представление (one-hot encoding)\n",
        "num_classes = 10\n",
        "y_train_encoded = to_categorical(y_train, num_classes)"
      ],
      "metadata": {
        "id": "VRTfWe-_iCij"
      },
      "execution_count": 18,
      "outputs": []
    },
    {
      "cell_type": "code",
      "source": [
        "# Разделяем обучающую выборку на тренировочную и валидационную части\n",
        "X_train_split, X_val_split, y_train_split, y_val_split = train_test_split(X_train, y_train_encoded, test_size=0.2, random_state=42)"
      ],
      "metadata": {
        "id": "9cZ9fE8siGKQ"
      },
      "execution_count": 19,
      "outputs": []
    },
    {
      "cell_type": "code",
      "source": [
        "# Создаем модель сверточной нейронной сети (CNN)\n",
        "model = Sequential([\n",
        "    # Первый сверточный блок\n",
        "    Conv2D(32, (3, 3), activation='relu', input_shape=(28, 28, 1)), # 32 фильтра, ядро 3x3, функция активации ReLU\n",
        "    MaxPooling2D((2, 2)), # Макс-пулинг для уменьшения размерности\n",
        "    Dropout(0.25), # Dropout для предотвращения переобучения\n",
        "\n",
        "    # Второй сверточный блок\n",
        "    Conv2D(64, (3, 3), activation='relu'), # 64 фильтра, ядро 3x3, функция активации ReLU\n",
        "    MaxPooling2D((2, 2)), # Макс-пулинг\n",
        "    Dropout(0.25), # Dropout\n",
        "\n",
        "    # Преобразование в плоский вектор для полносвязных слоев\n",
        "    Flatten(),\n",
        "\n",
        "    # Полносвязный слой\n",
        "    Dense(128, activation='relu'), # 128 нейронов, функция активации ReLU\n",
        "    Dropout(0.5), # Dropout\n",
        "\n",
        "    # Выходной слой\n",
        "    Dense(num_classes, activation='softmax') # 10 нейронов (по числу классов), функция активации Softmax\n",
        "])"
      ],
      "metadata": {
        "colab": {
          "base_uri": "https://localhost:8080/"
        },
        "id": "R3mq9L6wiN48",
        "outputId": "f87a2432-779b-4faf-8654-e92a63548785"
      },
      "execution_count": 20,
      "outputs": [
        {
          "output_type": "stream",
          "name": "stderr",
          "text": [
            "/usr/local/lib/python3.11/dist-packages/keras/src/layers/convolutional/base_conv.py:107: UserWarning: Do not pass an `input_shape`/`input_dim` argument to a layer. When using Sequential models, prefer using an `Input(shape)` object as the first layer in the model instead.\n",
            "  super().__init__(activity_regularizer=activity_regularizer, **kwargs)\n"
          ]
        }
      ]
    },
    {
      "cell_type": "code",
      "source": [
        "# Компилируем модель с более подходящими параметрами\n",
        "model.compile(optimizer='adam', # Используем оптимизатор Adam\n",
        "              loss='categorical_crossentropy', # Функция потерь для многоклассовой классификации\n",
        "              metrics=['accuracy']) # Метрика для оценки - точность\n",
        "\n",
        "# Early stopping для предотвращения переобучения\n",
        "early_stopping = EarlyStopping(monitor='val_loss', patience=10, restore_best_weights=True)\n",
        "\n",
        "# Reduce learning rate на плато\n",
        "reduce_lr = ReduceLROnPlateau(monitor='val_loss', factor=0.5, patience=5, min_lr=0.0001)\n",
        "\n",
        "# Обучаем модель с использованием Early Stopping и ReduceLROnPlateau\n",
        "epochs = 50 # Увеличиваем количество эпох\n",
        "batch_size = 64 # Увеличиваем размер батча\n",
        "history = model.fit(X_train_split, y_train_split,\n",
        "                    epochs=epochs,\n",
        "                    batch_size=batch_size,\n",
        "                    validation_data=(X_val_split, y_val_split),\n",
        "                    callbacks=[early_stopping, reduce_lr]) # Передаем колбэки"
      ],
      "metadata": {
        "colab": {
          "base_uri": "https://localhost:8080/"
        },
        "id": "EXM5vyayiYVt",
        "outputId": "87bacd43-4c94-428c-b3df-b2a060575462"
      },
      "execution_count": 21,
      "outputs": [
        {
          "output_type": "stream",
          "name": "stdout",
          "text": [
            "Epoch 1/50\n",
            "\u001b[1m213/213\u001b[0m \u001b[32m━━━━━━━━━━━━━━━━━━━━\u001b[0m\u001b[37m\u001b[0m \u001b[1m17s\u001b[0m 69ms/step - accuracy: 0.5363 - loss: 1.3074 - val_accuracy: 0.7790 - val_loss: 0.5815 - learning_rate: 0.0010\n",
            "Epoch 2/50\n",
            "\u001b[1m213/213\u001b[0m \u001b[32m━━━━━━━━━━━━━━━━━━━━\u001b[0m\u001b[37m\u001b[0m \u001b[1m20s\u001b[0m 68ms/step - accuracy: 0.7749 - loss: 0.6123 - val_accuracy: 0.8313 - val_loss: 0.4671 - learning_rate: 0.0010\n",
            "Epoch 3/50\n",
            "\u001b[1m213/213\u001b[0m \u001b[32m━━━━━━━━━━━━━━━━━━━━\u001b[0m\u001b[37m\u001b[0m \u001b[1m22s\u001b[0m 76ms/step - accuracy: 0.8112 - loss: 0.5125 - val_accuracy: 0.8486 - val_loss: 0.4182 - learning_rate: 0.0010\n",
            "Epoch 4/50\n",
            "\u001b[1m213/213\u001b[0m \u001b[32m━━━━━━━━━━━━━━━━━━━━\u001b[0m\u001b[37m\u001b[0m \u001b[1m18s\u001b[0m 64ms/step - accuracy: 0.8263 - loss: 0.4682 - val_accuracy: 0.8498 - val_loss: 0.4017 - learning_rate: 0.0010\n",
            "Epoch 5/50\n",
            "\u001b[1m213/213\u001b[0m \u001b[32m━━━━━━━━━━━━━━━━━━━━\u001b[0m\u001b[37m\u001b[0m \u001b[1m22s\u001b[0m 72ms/step - accuracy: 0.8390 - loss: 0.4327 - val_accuracy: 0.8659 - val_loss: 0.3698 - learning_rate: 0.0010\n",
            "Epoch 6/50\n",
            "\u001b[1m213/213\u001b[0m \u001b[32m━━━━━━━━━━━━━━━━━━━━\u001b[0m\u001b[37m\u001b[0m \u001b[1m28s\u001b[0m 107ms/step - accuracy: 0.8452 - loss: 0.4208 - val_accuracy: 0.8665 - val_loss: 0.3546 - learning_rate: 0.0010\n",
            "Epoch 7/50\n",
            "\u001b[1m213/213\u001b[0m \u001b[32m━━━━━━━━━━━━━━━━━━━━\u001b[0m\u001b[37m\u001b[0m \u001b[1m34s\u001b[0m 73ms/step - accuracy: 0.8552 - loss: 0.3904 - val_accuracy: 0.8650 - val_loss: 0.3567 - learning_rate: 0.0010\n",
            "Epoch 8/50\n",
            "\u001b[1m213/213\u001b[0m \u001b[32m━━━━━━━━━━━━━━━━━━━━\u001b[0m\u001b[37m\u001b[0m \u001b[1m21s\u001b[0m 75ms/step - accuracy: 0.8603 - loss: 0.3813 - val_accuracy: 0.8829 - val_loss: 0.3287 - learning_rate: 0.0010\n",
            "Epoch 9/50\n",
            "\u001b[1m213/213\u001b[0m \u001b[32m━━━━━━━━━━━━━━━━━━━━\u001b[0m\u001b[37m\u001b[0m \u001b[1m15s\u001b[0m 69ms/step - accuracy: 0.8683 - loss: 0.3598 - val_accuracy: 0.8820 - val_loss: 0.3249 - learning_rate: 0.0010\n",
            "Epoch 10/50\n",
            "\u001b[1m213/213\u001b[0m \u001b[32m━━━━━━━━━━━━━━━━━━━━\u001b[0m\u001b[37m\u001b[0m \u001b[1m14s\u001b[0m 66ms/step - accuracy: 0.8680 - loss: 0.3432 - val_accuracy: 0.8788 - val_loss: 0.3299 - learning_rate: 0.0010\n",
            "Epoch 11/50\n",
            "\u001b[1m213/213\u001b[0m \u001b[32m━━━━━━━━━━━━━━━━━━━━\u001b[0m\u001b[37m\u001b[0m \u001b[1m24s\u001b[0m 82ms/step - accuracy: 0.8735 - loss: 0.3377 - val_accuracy: 0.8841 - val_loss: 0.3163 - learning_rate: 0.0010\n",
            "Epoch 12/50\n",
            "\u001b[1m213/213\u001b[0m \u001b[32m━━━━━━━━━━━━━━━━━━━━\u001b[0m\u001b[37m\u001b[0m \u001b[1m14s\u001b[0m 64ms/step - accuracy: 0.8753 - loss: 0.3370 - val_accuracy: 0.8873 - val_loss: 0.3111 - learning_rate: 0.0010\n",
            "Epoch 13/50\n",
            "\u001b[1m213/213\u001b[0m \u001b[32m━━━━━━━━━━━━━━━━━━━━\u001b[0m\u001b[37m\u001b[0m \u001b[1m21s\u001b[0m 65ms/step - accuracy: 0.8740 - loss: 0.3335 - val_accuracy: 0.8870 - val_loss: 0.3065 - learning_rate: 0.0010\n",
            "Epoch 14/50\n",
            "\u001b[1m213/213\u001b[0m \u001b[32m━━━━━━━━━━━━━━━━━━━━\u001b[0m\u001b[37m\u001b[0m \u001b[1m20s\u001b[0m 63ms/step - accuracy: 0.8891 - loss: 0.3084 - val_accuracy: 0.8920 - val_loss: 0.2998 - learning_rate: 0.0010\n",
            "Epoch 15/50\n",
            "\u001b[1m213/213\u001b[0m \u001b[32m━━━━━━━━━━━━━━━━━━━━\u001b[0m\u001b[37m\u001b[0m \u001b[1m21s\u001b[0m 66ms/step - accuracy: 0.8876 - loss: 0.3068 - val_accuracy: 0.8950 - val_loss: 0.2907 - learning_rate: 0.0010\n",
            "Epoch 16/50\n",
            "\u001b[1m213/213\u001b[0m \u001b[32m━━━━━━━━━━━━━━━━━━━━\u001b[0m\u001b[37m\u001b[0m \u001b[1m20s\u001b[0m 65ms/step - accuracy: 0.8909 - loss: 0.2858 - val_accuracy: 0.8903 - val_loss: 0.2962 - learning_rate: 0.0010\n",
            "Epoch 17/50\n",
            "\u001b[1m213/213\u001b[0m \u001b[32m━━━━━━━━━━━━━━━━━━━━\u001b[0m\u001b[37m\u001b[0m \u001b[1m21s\u001b[0m 68ms/step - accuracy: 0.8920 - loss: 0.2842 - val_accuracy: 0.8935 - val_loss: 0.2890 - learning_rate: 0.0010\n",
            "Epoch 18/50\n",
            "\u001b[1m213/213\u001b[0m \u001b[32m━━━━━━━━━━━━━━━━━━━━\u001b[0m\u001b[37m\u001b[0m \u001b[1m15s\u001b[0m 72ms/step - accuracy: 0.8987 - loss: 0.2709 - val_accuracy: 0.8932 - val_loss: 0.2952 - learning_rate: 0.0010\n",
            "Epoch 19/50\n",
            "\u001b[1m213/213\u001b[0m \u001b[32m━━━━━━━━━━━━━━━━━━━━\u001b[0m\u001b[37m\u001b[0m \u001b[1m15s\u001b[0m 71ms/step - accuracy: 0.8978 - loss: 0.2677 - val_accuracy: 0.8935 - val_loss: 0.2884 - learning_rate: 0.0010\n",
            "Epoch 20/50\n",
            "\u001b[1m213/213\u001b[0m \u001b[32m━━━━━━━━━━━━━━━━━━━━\u001b[0m\u001b[37m\u001b[0m \u001b[1m14s\u001b[0m 64ms/step - accuracy: 0.9017 - loss: 0.2643 - val_accuracy: 0.9008 - val_loss: 0.2813 - learning_rate: 0.0010\n",
            "Epoch 21/50\n",
            "\u001b[1m213/213\u001b[0m \u001b[32m━━━━━━━━━━━━━━━━━━━━\u001b[0m\u001b[37m\u001b[0m \u001b[1m21s\u001b[0m 65ms/step - accuracy: 0.9052 - loss: 0.2511 - val_accuracy: 0.8988 - val_loss: 0.2806 - learning_rate: 0.0010\n",
            "Epoch 22/50\n",
            "\u001b[1m213/213\u001b[0m \u001b[32m━━━━━━━━━━━━━━━━━━━━\u001b[0m\u001b[37m\u001b[0m \u001b[1m21s\u001b[0m 69ms/step - accuracy: 0.9046 - loss: 0.2586 - val_accuracy: 0.8862 - val_loss: 0.3044 - learning_rate: 0.0010\n",
            "Epoch 23/50\n",
            "\u001b[1m213/213\u001b[0m \u001b[32m━━━━━━━━━━━━━━━━━━━━\u001b[0m\u001b[37m\u001b[0m \u001b[1m21s\u001b[0m 70ms/step - accuracy: 0.9065 - loss: 0.2470 - val_accuracy: 0.9014 - val_loss: 0.2830 - learning_rate: 0.0010\n",
            "Epoch 24/50\n",
            "\u001b[1m213/213\u001b[0m \u001b[32m━━━━━━━━━━━━━━━━━━━━\u001b[0m\u001b[37m\u001b[0m \u001b[1m20s\u001b[0m 69ms/step - accuracy: 0.9052 - loss: 0.2478 - val_accuracy: 0.8961 - val_loss: 0.2761 - learning_rate: 0.0010\n",
            "Epoch 25/50\n",
            "\u001b[1m213/213\u001b[0m \u001b[32m━━━━━━━━━━━━━━━━━━━━\u001b[0m\u001b[37m\u001b[0m \u001b[1m20s\u001b[0m 64ms/step - accuracy: 0.9080 - loss: 0.2338 - val_accuracy: 0.9023 - val_loss: 0.2802 - learning_rate: 0.0010\n",
            "Epoch 26/50\n",
            "\u001b[1m213/213\u001b[0m \u001b[32m━━━━━━━━━━━━━━━━━━━━\u001b[0m\u001b[37m\u001b[0m \u001b[1m21s\u001b[0m 65ms/step - accuracy: 0.9107 - loss: 0.2300 - val_accuracy: 0.8952 - val_loss: 0.2887 - learning_rate: 0.0010\n",
            "Epoch 27/50\n",
            "\u001b[1m213/213\u001b[0m \u001b[32m━━━━━━━━━━━━━━━━━━━━\u001b[0m\u001b[37m\u001b[0m \u001b[1m20s\u001b[0m 62ms/step - accuracy: 0.9156 - loss: 0.2247 - val_accuracy: 0.8982 - val_loss: 0.2741 - learning_rate: 0.0010\n",
            "Epoch 28/50\n",
            "\u001b[1m213/213\u001b[0m \u001b[32m━━━━━━━━━━━━━━━━━━━━\u001b[0m\u001b[37m\u001b[0m \u001b[1m21s\u001b[0m 67ms/step - accuracy: 0.9151 - loss: 0.2160 - val_accuracy: 0.8988 - val_loss: 0.2897 - learning_rate: 0.0010\n",
            "Epoch 29/50\n",
            "\u001b[1m213/213\u001b[0m \u001b[32m━━━━━━━━━━━━━━━━━━━━\u001b[0m\u001b[37m\u001b[0m \u001b[1m20s\u001b[0m 63ms/step - accuracy: 0.9126 - loss: 0.2299 - val_accuracy: 0.8970 - val_loss: 0.2839 - learning_rate: 0.0010\n",
            "Epoch 30/50\n",
            "\u001b[1m213/213\u001b[0m \u001b[32m━━━━━━━━━━━━━━━━━━━━\u001b[0m\u001b[37m\u001b[0m \u001b[1m21s\u001b[0m 67ms/step - accuracy: 0.9136 - loss: 0.2247 - val_accuracy: 0.9017 - val_loss: 0.2818 - learning_rate: 0.0010\n",
            "Epoch 31/50\n",
            "\u001b[1m213/213\u001b[0m \u001b[32m━━━━━━━━━━━━━━━━━━━━\u001b[0m\u001b[37m\u001b[0m \u001b[1m21s\u001b[0m 67ms/step - accuracy: 0.9172 - loss: 0.2106 - val_accuracy: 0.8985 - val_loss: 0.2843 - learning_rate: 0.0010\n",
            "Epoch 32/50\n",
            "\u001b[1m213/213\u001b[0m \u001b[32m━━━━━━━━━━━━━━━━━━━━\u001b[0m\u001b[37m\u001b[0m \u001b[1m21s\u001b[0m 70ms/step - accuracy: 0.9180 - loss: 0.2102 - val_accuracy: 0.9017 - val_loss: 0.2857 - learning_rate: 0.0010\n",
            "Epoch 33/50\n",
            "\u001b[1m213/213\u001b[0m \u001b[32m━━━━━━━━━━━━━━━━━━━━\u001b[0m\u001b[37m\u001b[0m \u001b[1m19s\u001b[0m 63ms/step - accuracy: 0.9234 - loss: 0.2006 - val_accuracy: 0.9049 - val_loss: 0.2766 - learning_rate: 5.0000e-04\n",
            "Epoch 34/50\n",
            "\u001b[1m213/213\u001b[0m \u001b[32m━━━━━━━━━━━━━━━━━━━━\u001b[0m\u001b[37m\u001b[0m \u001b[1m21s\u001b[0m 66ms/step - accuracy: 0.9314 - loss: 0.1816 - val_accuracy: 0.9014 - val_loss: 0.2860 - learning_rate: 5.0000e-04\n",
            "Epoch 35/50\n",
            "\u001b[1m213/213\u001b[0m \u001b[32m━━━━━━━━━━━━━━━━━━━━\u001b[0m\u001b[37m\u001b[0m \u001b[1m20s\u001b[0m 64ms/step - accuracy: 0.9281 - loss: 0.1855 - val_accuracy: 0.9026 - val_loss: 0.2843 - learning_rate: 5.0000e-04\n",
            "Epoch 36/50\n",
            "\u001b[1m213/213\u001b[0m \u001b[32m━━━━━━━━━━━━━━━━━━━━\u001b[0m\u001b[37m\u001b[0m \u001b[1m21s\u001b[0m 67ms/step - accuracy: 0.9280 - loss: 0.1776 - val_accuracy: 0.8994 - val_loss: 0.2858 - learning_rate: 5.0000e-04\n",
            "Epoch 37/50\n",
            "\u001b[1m213/213\u001b[0m \u001b[32m━━━━━━━━━━━━━━━━━━━━\u001b[0m\u001b[37m\u001b[0m \u001b[1m20s\u001b[0m 66ms/step - accuracy: 0.9322 - loss: 0.1740 - val_accuracy: 0.9011 - val_loss: 0.2867 - learning_rate: 5.0000e-04\n"
          ]
        }
      ]
    },
    {
      "cell_type": "code",
      "source": [
        "# Оценка модели на валидационной выборке\n",
        "val_loss, val_accuracy = model.evaluate(X_val_split, y_val_split, verbose=0)\n",
        "print(f'\\nТочность модели на валидационной выборке: {val_accuracy:.4f}')"
      ],
      "metadata": {
        "colab": {
          "base_uri": "https://localhost:8080/"
        },
        "id": "jtivRpNCihOu",
        "outputId": "e67491df-1999-4252-d879-c7cc863aad50"
      },
      "execution_count": 22,
      "outputs": [
        {
          "output_type": "stream",
          "name": "stdout",
          "text": [
            "\n",
            "Точность модели на валидационной выборке: 0.8982\n"
          ]
        }
      ]
    },
    {
      "cell_type": "code",
      "source": [
        "# Выводим classification report для более детальной оценки\n",
        "y_val_pred = model.predict(X_val_split)\n",
        "y_val_pred_classes = np.argmax(y_val_pred, axis=1)\n",
        "y_val_true_classes = np.argmax(y_val_split, axis=1)\n",
        "print(\"\\Отчет о классификации на валидационной выборке:\\n\", classification_report(y_val_true_classes, y_val_pred_classes))"
      ],
      "metadata": {
        "colab": {
          "base_uri": "https://localhost:8080/"
        },
        "id": "VNilRnL5iy4r",
        "outputId": "ece02afd-f66c-4bcb-e8b6-9812a3a5c4a2"
      },
      "execution_count": 23,
      "outputs": [
        {
          "output_type": "stream",
          "name": "stdout",
          "text": [
            "\u001b[1m107/107\u001b[0m \u001b[32m━━━━━━━━━━━━━━━━━━━━\u001b[0m\u001b[37m\u001b[0m \u001b[1m1s\u001b[0m 8ms/step\n",
            "\\Отчет о классификации на валидационной выборке:\n",
            "               precision    recall  f1-score   support\n",
            "\n",
            "           0       0.84      0.85      0.84       324\n",
            "           1       1.00      0.97      0.98       342\n",
            "           2       0.85      0.87      0.86       361\n",
            "           3       0.90      0.94      0.92       373\n",
            "           4       0.80      0.86      0.83       310\n",
            "           5       0.98      0.97      0.97       356\n",
            "           6       0.75      0.67      0.71       340\n",
            "           7       0.94      0.93      0.94       365\n",
            "           8       1.00      0.97      0.98       328\n",
            "           9       0.93      0.95      0.94       309\n",
            "\n",
            "    accuracy                           0.90      3408\n",
            "   macro avg       0.90      0.90      0.90      3408\n",
            "weighted avg       0.90      0.90      0.90      3408\n",
            "\n"
          ]
        }
      ]
    },
    {
      "cell_type": "code",
      "source": [
        "# Выводим confusion matrix\n",
        "confusion_matrix_val = confusion_matrix(y_val_true_classes, y_val_pred_classes)\n",
        "plt.figure(figsize=(10, 8))\n",
        "sns.heatmap(confusion_matrix_val, annot=True, fmt='d', cmap='Blues',\n",
        "            xticklabels=['Футболка', 'Брюки', 'Свитер', 'Платье', 'Пальто', 'Сандалия', 'Рубашка', 'Кроссовки', 'Сумка', 'Сапог'],\n",
        "            yticklabels=['Футболка', 'Брюки', 'Свитер', 'Платье', 'Пальто', 'Сандалия', 'Рубашка', 'Кроссовки', 'Сумка', 'Сапог'])\n",
        "plt.title('Матрица ошибок на валидационной выборке')\n",
        "plt.xlabel('Предсказанный класс')\n",
        "plt.ylabel('Истинный класс')\n",
        "plt.show()"
      ],
      "metadata": {
        "colab": {
          "base_uri": "https://localhost:8080/",
          "height": 781
        },
        "id": "LaQYyDxgi2BI",
        "outputId": "6098200d-e76a-4a3b-dc9d-13b0ed256c9b"
      },
      "execution_count": 24,
      "outputs": [
        {
          "output_type": "display_data",
          "data": {
            "text/plain": [
              "<Figure size 1000x800 with 2 Axes>"
            ],
            "image/png": "[encoded data removed]"
          },
          "metadata": {}
        }
      ]
    },
    {
      "cell_type": "code",
      "source": [
        "# Подготовка тестовых данных\n",
        "X_test = test_df.drop('Id', axis=1)\n",
        "X_test = X_test / 255.0\n",
        "X_test = X_test.values.reshape(-1, 28, 28, 1) # Изменяем размерность тестовых данных для CNN"
      ],
      "metadata": {
        "id": "2PYWDlsoi7rK"
      },
      "execution_count": 26,
      "outputs": []
    },
    {
      "cell_type": "code",
      "source": [
        "# Получение предсказаний на тестовой выборке\n",
        "predictions = model.predict(X_test)\n",
        "predicted_labels = np.argmax(predictions, axis=1)"
      ],
      "metadata": {
        "colab": {
          "base_uri": "https://localhost:8080/"
        },
        "id": "lwTvF3BTi_n-",
        "outputId": "b24aca4f-5c65-4f74-d9d8-c381f5325b0f"
      },
      "execution_count": 27,
      "outputs": [
        {
          "output_type": "stream",
          "name": "stdout",
          "text": [
            "\u001b[1m313/313\u001b[0m \u001b[32m━━━━━━━━━━━━━━━━━━━━\u001b[0m\u001b[37m\u001b[0m \u001b[1m5s\u001b[0m 16ms/step\n"
          ]
        }
      ]
    },
    {
      "cell_type": "code",
      "source": [
        "# Создание файла submission\n",
        "submission_df = pd.DataFrame({'Id': test_df['Id'], 'label': predicted_labels})\n",
        "submission_df.to_csv('/content/drive/MyDrive/Colab Notebooks/data/submission.csv', index=False)\n",
        "\n",
        "print(\"\\nФайл submission.csv успешно создан.\")"
      ],
      "metadata": {
        "colab": {
          "base_uri": "https://localhost:8080/"
        },
        "id": "Wob1Pu08jBlB",
        "outputId": "8b5ad350-3a26-4968-d20f-6a82e87e7089"
      },
      "execution_count": 33,
      "outputs": [
        {
          "output_type": "stream",
          "name": "stdout",
          "text": [
            "\n",
            "Файл submission.csv успешно создан.\n"
          ]
        }
      ]
    }
  ]
}